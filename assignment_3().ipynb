{
 "cells": [
  {
   "cell_type": "markdown",
   "metadata": {},
   "source": [
    "# Assignment 3: *Deutsch-Jozsa* Algorithm and its Application\n",
    "\n",
    "The purpose of this assignment is to introduce the problems that motivated *Deutsch-Jozsa* Algorithm and then to explain the algorithm themselves. The assignment would give examples of the implementation of the algorithm as well and then lead up to the main problem of the assignment - **predicting the price of a real estate property using the Deutsch-Jozsa Algorithm**.\n",
    "\n",
    "---\n",
    "## Deutsch-Jozsa Algorithm\n",
    "\n",
    "### The Formal Problem: \n",
    "\n",
    "**For given an oracle function $f : {0, 1}^n -> {0, 1}$, determine $f$ is balanced or constant.**\n",
    "\n",
    "Consider a function $f(x)$ that takes as input n-bit strings $x$ and returns $0$ or $1$. Suppose we are promised that $f(x)$ is either a constant function that takes the same value $c$ in ${0,1}$ on all inputs $x$, or a balanced function that takes each value $0$ and $1$ on exactly half of the inputs. The goal is to decide whether $f$ is constant or balanced by making as few function evaluations as possible. Classically, it requires $2^{n-1}+1$ function evaluations in the worst case. Using the Deutsch-Jozsa algorithm, the question can be answered with just one function evaluation.\n",
    "    \n",
    "### The Problem Explained:\n",
    "\n",
    "The problem which it aims to solve is the following. Let’s say you have a “black box function” (some kind of unknown function)— which you know must either be “constant” (returning the same value for any input) or “balanced” (returning one of two different outputs with equal probability). You want to figure out which of the two it is.\n",
    "Now of course, this at first glance, may seem like a pretty impractical problem. And in the grand scheme of things, it probably is.\n",
    "\n",
    "But, let’s consider how long it would take a classical computer to solve this problem. Our best case scenario would be two queries (i.e. passing two numbers through the function), because if we get two different answers, we know it must be balanced. But, say the classical computer keeps getting the same output. If the function has $n$ possible inputs, the classical computer would have to try just over half of all possible inputs $(2^{(n-1)} + 1$, to be specific) until it can be absolutely certain that that is the only possible answer.\n",
    "For small values of $n$, this might not seem like a significant number. But, as n increases, $2^{(n-1)} + 1$ does so as well… exponentially.\n",
    "\n",
    "A quantum computer on the other hand, can solve this problem using **just one query regardless of how many possible inputs the function has**. So, while the problem the computer is trying to solve is realistically impractical, it is interesting because it demonstrates the very essence of what we hope quantum computers will be able to one day do.\n",
    "\n",
    "\n",
    "### Balanced/Constant Functions:\n",
    "\n",
    "The quantum oracle used in the Deutsch-Jozsa algorithm is a black box function that must be either constant or balanced. For an unknown Oracle $U_f$, given input value $|x_n>$, the output will be $|y \\bigoplus x_n>$, where $\\bigoplus$ denotes addition modulo 2 operator. That is, if $y = 0$ then the output is simply $f(x)$.\n",
    "\n",
    "![pic](pic/circ.png)\n",
    "\n",
    "A function $$ f \\{0,1\\}\\rightarrow \\{0,1\\} $$\n",
    "\n",
    "is said to be balanced if $$ f(0) \\ne f(1) $$ and constant if $$ f(0) = f(1) $$\n",
    "\n",
    "---\n",
    "## High Level Algorithm:\n",
    "\n",
    "The algorithm itself is pretty straight forward and is summarized as follows:\n",
    "\n",
    "1. Initialize two quantum registers (sets of qubits). The first consists of n qubits each initialized to $|0>$. The second just has one qubit (called *ancilla*) initialized to $|1>$.\n",
    "2. Apply Hadamard gates to each qubit in both registers.\n",
    "3. Pass it through the quantum oracle (the black box function).\n",
    "4. Apply the Hadamard gate to each qubit in the first register.\n",
    "5. Measure each qubit in the first register, thus measuring the overall quantum state.\n",
    "6. If we measure the state $|00…0>$, we know it is **constant**. If we measure anything else, we know it is **balanced**.\n",
    "\n",
    "---\n",
    "\n",
    "### Explanation of the Algorithm:\n",
    "\n",
    "First, let’s consider this question intuitively. Let’s say we have a constant function. In this case, applying the function doesn’t change the quantum state’s relative phase — if we were to model that state as a vector, applying the function wouldn’t rotate the vector. The Hadamard gate has the handy quality of being it’s own inverse, and so applying it to a qubit two times in succession, will return it to it’s initial state. So, doing that to all the qubits in the first register maintains the state $|000…0>$. The ancilla is added to the circuit to make sure that the Oracle $U_f$ is reversible which is a necessary component to be a quantum gate.\n",
    "\n",
    "![a](pic/a.png)\n",
    "\n",
    "On the other hand, when the oracle is balanced, applying it to the state will change its relative phase and hence its state. This means that applying the Hadamard gate a second time will not return it to it’s initial state of $|000…0>$.\n",
    "\n",
    "\n",
    "And so, in the measurement stage, if we get $|000…0>$, we know our quantum oracle must be constant. If we get anything else, we know it must be balanced.\n",
    "\n",
    "Mathematically, we can take a look at the state after we impose each step. First, when we initialize our registers, our state looks like\n",
    "\n",
    "![b](pic/b.png)\n",
    "\n",
    "because we have n qubits in state $|0>$ and one in state $|1>$.\n",
    "Then, after we apply the first round of hadamard gates, we have\n",
    "\n",
    "![c](pic/c.png)\n",
    "\n",
    "Third, when we pass it through the quantum oracle — which we represent using $f(x)$ — we get\n",
    "\n",
    "![d](pic/d.png)\n",
    "\n",
    "And finally, after implementing the last set of hadamard gates, we get\n",
    "\n",
    "![e](pic/e.png)\n",
    "\n",
    "Notice that because of the Born rule, the probability of measuring this state as $|00….0>$ is\n",
    "\n",
    "![f](pic/f.png)\n",
    "\n",
    "\n",
    "If $f(x)$ is constant, then it will either always be 0 or always be 1. If f(x)=0, then all of the $(-1)^{f(x)}$ evaluate to 1, and the overall result is 1. If f(x)=-1, then all of the (-1)^f(x) evaluate to -1, and still the overall result is 1, because we are taking an absolute value. So, if $f(x)$ is constant, we have a $100%$ chance of measuring $|00…0>$.\n",
    "On the other hand, if $f(x)$ is balanced, it will be 0 or 1 with equal probability and so the $(-1)^{f(x)}$ terms will collectively cancel out and we get 0 — that is, a $0%$ chance of getting $|000…0>$.\n",
    "\n",
    "\n",
    "### Implementation of the Algorithm:\n",
    "\n",
    "I will show the implementation of the algorithm for an Oracle function that is balanced.\n",
    "\n",
    "**More on** [Deutsch-Jozsa Algorithm](https://qiskit.org/textbook/ch-algorithms/deutsch-jozsa.html)"
   ]
  },
  {
   "cell_type": "code",
   "execution_count": 8,
   "metadata": {},
   "outputs": [
    {
     "data": {
      "image/png": "[encoded data removed]",
      "text/plain": [
       "<Figure size 1031.83x264.88 with 1 Axes>"
      ]
     },
     "execution_count": 8,
     "metadata": {},
     "output_type": "execute_result"
    }
   ],
   "source": [
    "from qiskit import IBMQ, BasicAer\n",
    "from qiskit import QuantumCircuit, ClassicalRegister, QuantumRegister, execute\n",
    "from qiskit.tool.visualization import plot_histogram\n",
    "\n",
    "\n",
    "qr = QuantumRegister(3)  # Initialize qubits\n",
    "cr = ClassicalRegister(3)  # Initialize bits for record measurements\n",
    "circuit = QuantumCircuit(qr, cr)\n",
    "\n",
    "circuit.x(qr[2])  # initialize the ancilla qubit in the |1> state\n",
    "\n",
    "circuit.barrier()\n",
    "\n",
    "# First step of quantum algorithms - Prepare the superposition\n",
    "# For superposition, we apply the Hadamard gate on all qubits\n",
    "circuit.h(qr[0])\n",
    "circuit.h(qr[1])\n",
    "circuit.h(qr[2])\n",
    "\n",
    "circuit.barrier()\n",
    "\n",
    "# Oracle function\n",
    "def oracle(n):\n",
    "    qc = QuantumCircuit(n)\n",
    "    qc.h(0)\n",
    "    qc.cx(1, 0)\n",
    "    qc.z(2)\n",
    "    qc.h(0)\n",
    "    gate = qc.to_gate()\n",
    "    gate.name = \"Oracle_f\"\n",
    "    return  gate\n",
    "    \n",
    "\"\"\"\n",
    "These are the gates needed to make the oracle\n",
    "circuit.h(qr[0])\n",
    "circuit.cx(qr[1], qr[0])\n",
    "circuit.z(qr[2])\n",
    "circuit.h(qr[0])\n",
    "\"\"\"\n",
    "\n",
    "circuit.append(oracle(3), range(3)) \n",
    "\n",
    "circuit.barrier()\n",
    "\n",
    "# Apply Hadamard gates after querying oracle function\n",
    "circuit.h(qr[0])\n",
    "circuit.h(qr[1])\n",
    "circuit.h(qr[2])\n",
    "\n",
    "circuit.barrier()\n",
    "\n",
    "# Measure qubit\n",
    "circuit.measure(qr[0], cr[0])\n",
    "circuit.measure(qr[1], cr[1])\n",
    "\n",
    "circuit.barrier()\n",
    "circuit.draw(\"mpl\")"
   ]
  },
  {
   "cell_type": "code",
   "execution_count": 122,
   "metadata": {},
   "outputs": [
    {
     "name": "stdout",
     "output_type": "stream",
     "text": [
      "Simulator result\n",
      "001 is observed in 266 times\n",
      "000 is observed in 286 times\n",
      "011 is observed in 249 times\n",
      "010 is observed in 223 times\n"
     ]
    },
    {
     "data": {
      "image/png": "[encoded data removed]",
      "text/plain": [
       "<Figure size 504x360 with 1 Axes>"
      ]
     },
     "execution_count": 122,
     "metadata": {},
     "output_type": "execute_result"
    }
   ],
   "source": [
    "# Run our circuit with local simulator\n",
    "backend = BasicAer.get_backend('qasm_simulator')\n",
    "shots = 1024\n",
    "results = execute(circuit, backend=backend, shots=shots).result()\n",
    "answer = results.get_counts()\n",
    "\n",
    "print(\"Simulator result\")\n",
    "for c2c1c0 in answer:\n",
    "    print(f\"{c2c1c0} is observed in {answer[c2c1c0]} times\")\n",
    "    \n",
    "# If we measure |0>^n, then f is constant, other results tell us that f is balanced\n",
    "plot_histogram(answer)"
   ]
  },
  {
   "cell_type": "markdown",
   "metadata": {},
   "source": [
    "Since the measured states are not $|000>$ or $|111>$ for all input states. It verifies that the Oracle was indeed not a **constant** function but a **balanced** function."
   ]
  },
  {
   "cell_type": "markdown",
   "metadata": {},
   "source": [
    "## Assignment 3.1: \n",
    "### a) What is the purpose of the *ancilla qubit*?\n",
    "\n",
    "`\n",
    "ENTER YOUR ANSWER HERE!\n",
    "` To ensure the particle gate is reversible\n",
    "\n",
    "### b) Given the following Input/Output (I/O) relation which of these functions are balanced and which of them are constant?:\n",
    "\n",
    "1. $F_1(x)$ :: Inputs = $|000> |001> |010>$, Outputs = $|000>$  \n",
    "2. $F_2(x)$ :: Inputs = $|000> |001> |010>$, Outputs = $|010>$ \n",
    "3. $F_3(x)$ :: Inputs = $|000> |001> |010>$, Outputs = $|110>$\n",
    "4. $F_4(x)$ :: Inputs = $|000> |001> |010>$, Outputs = $|111>$\n",
    "\n",
    "`\n",
    "ENTER YOUR ANSWER HERE!\n",
    "`1. Constant Function \n",
    "2.Balance Function \n",
    "3.Constant Function \n",
    "4.Blance Function"
   ]
  },
  {
   "cell_type": "markdown",
   "metadata": {},
   "source": [
    "--------\n",
    "## Application of Deutsch-Jozsa Algorithm: *Predicting Real Estate Price Rise/Fall*\n",
    "\n",
    "This section outlines an example that you would need to understand to complete **Assignment 3.2**. We use the Deutsch-Jozsa algorithm framework to predict whether a real estate price will rise or fall. For this example, I used a public dataset on Texas State real estate market made available by google.\n",
    "\n",
    "Here is the high level overview of the algorithm:\n",
    "\n",
    "1. Import the data \n",
    "2. Create a pandas data frame using the data (learn more about pandas library: [Youtube Link](https://www.youtube.com/watch?v=dcqPhpY7tWk)\n",
    "3. Create an initial qubit state $|110>$ (arbitrarily chosen)\n",
    "4. Apply X gate on the ancilla qubit \n",
    "5. Apply H gates on all the qubits for creating superposition\n",
    "6. Apply the Oracle (CNOT Gate with control qubit 2 and target qubit 4 (ancilla) or X gate on qubit 4 (ancilla) based on condition )\n",
    "7. Apply H gates to the qubits (without the ancilla)\n",
    "8. Measure the qubits into the classical bits\n",
    "\n",
    "**Note:** The above high level algorithm is a general framework to solve other problems of the same class.\n",
    "\n",
    "---\n",
    "### Explanation of algorithm\n",
    "Let’s consider a function that can predict whether the Texas housing price will increase or decrease for a given year. $$f(x,years)$$\n",
    "x is a binary variable of 1 or 0 and years is the number of years we want to predict its value. So we want an algorithm that works this way. $$f(x, years) = f(x)$$ That is:\n",
    "\n",
    "If function is constant\n",
    "$$f(0) = f(1)$$\n",
    "then Texas housing price will increase for that year.\n",
    "If\n",
    "$$f(0) \\ne f(1)$$\n",
    "then the Texas housing price will decrease for that year\n",
    "\n",
    "Now lets read the Texas State real estate data."
   ]
  },
  {
   "cell_type": "code",
   "execution_count": 3,
   "metadata": {},
   "outputs": [],
   "source": [
    "import pandas as pd\n",
    "tx_real_estate_df = pd.read_csv(\"texas_housing.csv\") "
   ]
  },
  {
   "cell_type": "markdown",
   "metadata": {},
   "source": [
    "### DataFrame Check\n",
    "\n",
    "The following is the dataframe created using the `texas_housing.csv` file."
   ]
  },
  {
   "cell_type": "code",
   "execution_count": 4,
   "metadata": {},
   "outputs": [
    {
     "data": {
      "text/html": [
       "<div>\n",
       "<style scoped>\n",
       "    .dataframe tbody tr th:only-of-type {\n",
       "        vertical-align: middle;\n",
       "    }\n",
       "\n",
       "    .dataframe tbody tr th {\n",
       "        vertical-align: top;\n",
       "    }\n",
       "\n",
       "    .dataframe thead th {\n",
       "        text-align: right;\n",
       "    }\n",
       "</style>\n",
       "<table border=\"1\" class=\"dataframe\">\n",
       "  <thead>\n",
       "    <tr style=\"text-align: right;\">\n",
       "      <th></th>\n",
       "      <th>longitude</th>\n",
       "      <th>latitude</th>\n",
       "      <th>housing_median_age</th>\n",
       "      <th>total_rooms</th>\n",
       "      <th>total_bedrooms</th>\n",
       "      <th>population</th>\n",
       "      <th>households</th>\n",
       "      <th>median_income</th>\n",
       "      <th>median_house_value</th>\n",
       "    </tr>\n",
       "  </thead>\n",
       "  <tbody>\n",
       "    <tr>\n",
       "      <th>0</th>\n",
       "      <td>-114.31</td>\n",
       "      <td>34.19</td>\n",
       "      <td>15.0</td>\n",
       "      <td>5612.0</td>\n",
       "      <td>1283.0</td>\n",
       "      <td>1015.0</td>\n",
       "      <td>472.0</td>\n",
       "      <td>1.4936</td>\n",
       "      <td>66900.0</td>\n",
       "    </tr>\n",
       "    <tr>\n",
       "      <th>1</th>\n",
       "      <td>-114.47</td>\n",
       "      <td>34.40</td>\n",
       "      <td>19.0</td>\n",
       "      <td>7650.0</td>\n",
       "      <td>1901.0</td>\n",
       "      <td>1129.0</td>\n",
       "      <td>463.0</td>\n",
       "      <td>1.8200</td>\n",
       "      <td>80100.0</td>\n",
       "    </tr>\n",
       "    <tr>\n",
       "      <th>2</th>\n",
       "      <td>-114.56</td>\n",
       "      <td>33.69</td>\n",
       "      <td>17.0</td>\n",
       "      <td>720.0</td>\n",
       "      <td>174.0</td>\n",
       "      <td>333.0</td>\n",
       "      <td>117.0</td>\n",
       "      <td>1.6509</td>\n",
       "      <td>85700.0</td>\n",
       "    </tr>\n",
       "    <tr>\n",
       "      <th>3</th>\n",
       "      <td>-114.57</td>\n",
       "      <td>33.64</td>\n",
       "      <td>14.0</td>\n",
       "      <td>1501.0</td>\n",
       "      <td>337.0</td>\n",
       "      <td>515.0</td>\n",
       "      <td>226.0</td>\n",
       "      <td>3.1917</td>\n",
       "      <td>73400.0</td>\n",
       "    </tr>\n",
       "    <tr>\n",
       "      <th>4</th>\n",
       "      <td>-114.57</td>\n",
       "      <td>33.57</td>\n",
       "      <td>20.0</td>\n",
       "      <td>1454.0</td>\n",
       "      <td>326.0</td>\n",
       "      <td>624.0</td>\n",
       "      <td>262.0</td>\n",
       "      <td>1.9250</td>\n",
       "      <td>65500.0</td>\n",
       "    </tr>\n",
       "    <tr>\n",
       "      <th>...</th>\n",
       "      <td>...</td>\n",
       "      <td>...</td>\n",
       "      <td>...</td>\n",
       "      <td>...</td>\n",
       "      <td>...</td>\n",
       "      <td>...</td>\n",
       "      <td>...</td>\n",
       "      <td>...</td>\n",
       "      <td>...</td>\n",
       "    </tr>\n",
       "    <tr>\n",
       "      <th>16995</th>\n",
       "      <td>-124.26</td>\n",
       "      <td>40.58</td>\n",
       "      <td>52.0</td>\n",
       "      <td>2217.0</td>\n",
       "      <td>394.0</td>\n",
       "      <td>907.0</td>\n",
       "      <td>369.0</td>\n",
       "      <td>2.3571</td>\n",
       "      <td>111400.0</td>\n",
       "    </tr>\n",
       "    <tr>\n",
       "      <th>16996</th>\n",
       "      <td>-124.27</td>\n",
       "      <td>40.69</td>\n",
       "      <td>36.0</td>\n",
       "      <td>2349.0</td>\n",
       "      <td>528.0</td>\n",
       "      <td>1194.0</td>\n",
       "      <td>465.0</td>\n",
       "      <td>2.5179</td>\n",
       "      <td>79000.0</td>\n",
       "    </tr>\n",
       "    <tr>\n",
       "      <th>16997</th>\n",
       "      <td>-124.30</td>\n",
       "      <td>41.84</td>\n",
       "      <td>17.0</td>\n",
       "      <td>2677.0</td>\n",
       "      <td>531.0</td>\n",
       "      <td>1244.0</td>\n",
       "      <td>456.0</td>\n",
       "      <td>3.0313</td>\n",
       "      <td>103600.0</td>\n",
       "    </tr>\n",
       "    <tr>\n",
       "      <th>16998</th>\n",
       "      <td>-124.30</td>\n",
       "      <td>41.80</td>\n",
       "      <td>19.0</td>\n",
       "      <td>2672.0</td>\n",
       "      <td>552.0</td>\n",
       "      <td>1298.0</td>\n",
       "      <td>478.0</td>\n",
       "      <td>1.9797</td>\n",
       "      <td>85800.0</td>\n",
       "    </tr>\n",
       "    <tr>\n",
       "      <th>16999</th>\n",
       "      <td>-124.35</td>\n",
       "      <td>40.54</td>\n",
       "      <td>52.0</td>\n",
       "      <td>1820.0</td>\n",
       "      <td>300.0</td>\n",
       "      <td>806.0</td>\n",
       "      <td>270.0</td>\n",
       "      <td>3.0147</td>\n",
       "      <td>94600.0</td>\n",
       "    </tr>\n",
       "  </tbody>\n",
       "</table>\n",
       "<p>17000 rows × 9 columns</p>\n",
       "</div>"
      ],
      "text/plain": [
       "       longitude  latitude  housing_median_age  total_rooms  total_bedrooms  \\\n",
       "0        -114.31     34.19                15.0       5612.0          1283.0   \n",
       "1        -114.47     34.40                19.0       7650.0          1901.0   \n",
       "2        -114.56     33.69                17.0        720.0           174.0   \n",
       "3        -114.57     33.64                14.0       1501.0           337.0   \n",
       "4        -114.57     33.57                20.0       1454.0           326.0   \n",
       "...          ...       ...                 ...          ...             ...   \n",
       "16995    -124.26     40.58                52.0       2217.0           394.0   \n",
       "16996    -124.27     40.69                36.0       2349.0           528.0   \n",
       "16997    -124.30     41.84                17.0       2677.0           531.0   \n",
       "16998    -124.30     41.80                19.0       2672.0           552.0   \n",
       "16999    -124.35     40.54                52.0       1820.0           300.0   \n",
       "\n",
       "       population  households  median_income  median_house_value  \n",
       "0          1015.0       472.0         1.4936             66900.0  \n",
       "1          1129.0       463.0         1.8200             80100.0  \n",
       "2           333.0       117.0         1.6509             85700.0  \n",
       "3           515.0       226.0         3.1917             73400.0  \n",
       "4           624.0       262.0         1.9250             65500.0  \n",
       "...           ...         ...            ...                 ...  \n",
       "16995       907.0       369.0         2.3571            111400.0  \n",
       "16996      1194.0       465.0         2.5179             79000.0  \n",
       "16997      1244.0       456.0         3.0313            103600.0  \n",
       "16998      1298.0       478.0         1.9797             85800.0  \n",
       "16999       806.0       270.0         3.0147             94600.0  \n",
       "\n",
       "[17000 rows x 9 columns]"
      ]
     },
     "execution_count": 4,
     "metadata": {},
     "output_type": "execute_result"
    }
   ],
   "source": [
    "tx_real_estate_df"
   ]
  },
  {
   "cell_type": "code",
   "execution_count": 5,
   "metadata": {},
   "outputs": [],
   "source": [
    "import matplotlib.pyplot as plt\n",
    "%matplotlib inline\n",
    "import qiskit\n",
    "from qiskit import *\n",
    "from qiskit.tools.visualization import plot_histogram\n",
    "import numpy as np"
   ]
  },
  {
   "cell_type": "markdown",
   "metadata": {},
   "source": [
    "## Create the standard circuit for the Deutsch-Jozsa algorithm \n",
    "\n",
    "We use three qubits in the state $|110>$ as our input to the Deutsch-Jozsa algorithm circuit. As discussed above, we want to use the principle of superposition of quantum states to create a quantum parallelism. Applying hadamard gate as denoted as `H` in the code below put the system into a superposition."
   ]
  },
  {
   "cell_type": "code",
   "execution_count": 6,
   "metadata": {},
   "outputs": [
    {
     "data": {
      "image/png": "[encoded data removed]",
      "text/plain": [
       "<Figure size 550.228x325.08 with 1 Axes>"
      ]
     },
     "execution_count": 6,
     "metadata": {},
     "output_type": "execute_result"
    }
   ],
   "source": [
    "# using three qubits and 1 ancilla qubit\n",
    "nbit = 3\n",
    "qr = QuantumRegister(nbit+1)\n",
    "cr = ClassicalRegister(nbit)  \n",
    "\n",
    "PredictionCircuit = QuantumCircuit(qr,cr)\n",
    "\n",
    "#using the input state as |110> (chosen arbitrarily)\n",
    "PredictionCircuit.x(0)\n",
    "PredictionCircuit.x(1)\n",
    "\n",
    "PredictionCircuit.barrier()\n",
    "\n",
    "# initialize the ancilla qubit in the |1> state\n",
    "PredictionCircuit.x(qr[nbit])\n",
    "\n",
    "PredictionCircuit.barrier()\n",
    "\n",
    "# First step of quantum algorithms - Prepare the superposition\n",
    "# For superposition, we apply the Hadamard gate on all qubits\n",
    "PredictionCircuit.h(qr)\n",
    "\n",
    "PredictionCircuit.barrier()\n",
    "\n",
    "PredictionCircuit.draw(\"mpl\")"
   ]
  },
  {
   "cell_type": "markdown",
   "metadata": {},
   "source": [
    "## Reading Data and Making Prediction\n",
    "\n",
    "Now that this code is implementing Deutsch-Jozsa’s algorithm to make a prediction. As explained earlier, if $f(0) = f(1)$, the housing price will increase. This is how the the quantum oracle goes. Let’s say today is 100 years as shown in the code below, if the housing price of the year we are predicting is greater than that of today, the circuit apply a NOT gate on the fourth gate. This gives us a constant value every time making sure\n",
    "$$f(0) = f(1)$$\n",
    "The second condition is that if \n",
    "$$f(0) \\ne f(1)$$\n",
    "then apply a CNOT gate. The control of the CNOT can be on any of the three qubits, and the target on the fourth qubit."
   ]
  },
  {
   "cell_type": "code",
   "execution_count": 7,
   "metadata": {},
   "outputs": [
    {
     "name": "stdout",
     "output_type": "stream",
     "text": [
      "Predicted:  50000.0\n",
      "Current:  159900.0\n"
     ]
    }
   ],
   "source": [
    "N = 22 # randomly chosen number\n",
    "\n",
    "CurrentYear = len(tx_real_estate_df[\"median_house_value\"])/170\n",
    "PredictedYearValue = 0\n",
    "CurrentYearValue = tx_real_estate_df[\"median_house_value\"][CurrentYear]\n",
    "\n",
    "for i, j in enumerate(tx_real_estate_df[\"median_house_value\"]):\n",
    "    i = N\n",
    "    PredictedYearValue = tx_real_estate_df[\"median_house_value\"][i]\n",
    "\n",
    "print(\"Predicted: \", PredictedYearValue)\n",
    "print(\"Current: \", CurrentYearValue)\n",
    "\n",
    "if PredictedYearValue > CurrentYearValue:\n",
    "    PredictionCircuit.x(qr[nbit])\n",
    "    \n",
    "elif CurrentYearValue > PredictedYearValue :\n",
    "    PredictionCircuit.cx(qr[nbit-2],qr[nbit])\n",
    "    \n",
    "else:\n",
    "    print(\"Invalid\")"
   ]
  },
  {
   "cell_type": "markdown",
   "metadata": {},
   "source": [
    "The output shows that the Predicted value will be less than the current value. That is,\n",
    "$$f(0) \\ne f(1)$$\n",
    "\n",
    "The following is what the completed circuit looks like."
   ]
  },
  {
   "cell_type": "code",
   "execution_count": 134,
   "metadata": {},
   "outputs": [
    {
     "data": {
      "image/png": "[encoded data removed]",
      "text/plain": [
       "<Figure size 982.464x325.08 with 1 Axes>"
      ]
     },
     "execution_count": 134,
     "metadata": {},
     "output_type": "execute_result"
    }
   ],
   "source": [
    "PredictionCircuit.barrier()\n",
    "    \n",
    "for i in range(nbit):\n",
    "    PredictionCircuit.h(i)\n",
    "\n",
    "\n",
    "PredictionCircuit.barrier()\n",
    "\n",
    "for i in range(nbit):\n",
    "    PredictionCircuit.measure(qr[i],cr[i])\n",
    "    \n",
    "PredictionCircuit.draw(\"mpl\")"
   ]
  },
  {
   "cell_type": "markdown",
   "metadata": {},
   "source": [
    "## Measuring the qubit state\n",
    "\n",
    "Lastly, let’s make a plot and see the output of our prediction. We input 110, we get the output of 001 in 1 shot. "
   ]
  },
  {
   "cell_type": "code",
   "execution_count": 135,
   "metadata": {},
   "outputs": [
    {
     "name": "stdout",
     "output_type": "stream",
     "text": [
      "Simulator result:\n",
      "{'001': 1}\n"
     ]
    },
    {
     "data": {
      "image/png": "[encoded data removed]",
      "text/plain": [
       "<Figure size 504x360 with 1 Axes>"
      ]
     },
     "execution_count": 135,
     "metadata": {},
     "output_type": "execute_result"
    }
   ],
   "source": [
    "backend = BasicAer.get_backend('qasm_simulator')\n",
    "shots = 1\n",
    "results = execute(PredictionCircuit, backend=backend, shots=shots).result()\n",
    "answer = results.get_counts()\n",
    "print(\"Simulator result:\")\n",
    "print(answer)\n",
    "plot_histogram(answer)"
   ]
  },
  {
   "cell_type": "markdown",
   "metadata": {},
   "source": [
    "## Result Interpretation\n",
    "\n",
    "This shows that $f(x)$ is balanced, and our predicted housing price will decrease."
   ]
  },
  {
   "cell_type": "markdown",
   "metadata": {},
   "source": [
    "## Assignment 3.2:\n",
    "\n",
    "Using the example explained in the above section, implement such an algorithm/scheme for a data file of your choice to conduct a similar predictive analysis project.\n",
    "\n",
    "**NOTE:** This assignment can be as simple as getting a similar real estate csv file and rerunning the code to much more complicated test cases such as trying to predict Energy levels of Lithium Hydride. \n",
    "\n",
    "**NOTE 2:** For those of us that may be torn between taking the easy route and the difficult route. Here's some inspiration:\n",
    "\n",
    "- stock closing price instead of real estate\n",
    "- price of some commodity listed on some ecommerce platform\n",
    "- chances of a certain word being used in a book\n"
   ]
  },
  {
   "cell_type": "code",
   "execution_count": 107,
   "metadata": {},
   "outputs": [
    {
     "data": {
      "text/plain": [
       "'\\nYOUR CODE HERE\\n'"
      ]
     },
     "execution_count": 107,
     "metadata": {},
     "output_type": "execute_result"
    }
   ],
   "source": [
    "\"\"\"\n",
    "YOUR CODE HERE\n",
    "\"\"\"\n",
    "import pandas as pd\n",
    "tx_real_estate_df = pd.read_csv ('AAPL(3).csv')\n",
    "\n",
    "import matplotlib.pyplot as plt\n",
    "%matplotlib inline\n",
    "import qiskit\n",
    "from qiskit import *\n",
    "from qiskit.tools.visualization import plot_histogram\n",
    "import numpy as np\n",
    "\n",
    "# using three qubits and 1 ancilla qubit\n",
    "nbit = 3\n",
    "qr = QuantumRegister(nbit+1)\n",
    "cr = ClassicalRegister(nbit)  \n",
    "\n",
    "PredictionCircuit = QuantumCircuit(qr,cr)\n",
    "\n",
    "#using the input state as |110> (chosen arbitrarily)\n",
    "PredictionCircuit.x(0)\n",
    "PredictionCircuit.x(1)\n",
    "\n",
    "PredictionCircuit.barrier()\n",
    "\n",
    "# initialize the ancilla qubit in the |1> state\n",
    "PredictionCircuit.x(qr[nbit])\n",
    "\n",
    "PredictionCircuit.barrier()\n",
    "\n",
    "# First step of quantum algorithms - Prepare the superposition\n",
    "# For superposition, we apply the Hadamard gate on all qubits\n",
    "PredictionCircuit.h(qr)\n",
    "\n",
    "PredictionCircuit.barrier()\n",
    "\n",
    "PredictionCircuit.draw(\"mpl\")"
   ]
  },
  {
   "cell_type": "markdown",
   "metadata": {},
   "source": [
    "## Optional Task\n",
    "### Can you design an oracle function that acts as a constant function? If so implement such a circuit."
   ]
  },
  {
   "cell_type": "code",
   "execution_count": 106,
   "metadata": {},
   "outputs": [
    {
     "data": {
      "text/plain": [
       "'\\nYOUR CODE HERE\\n'"
      ]
     },
     "execution_count": 106,
     "metadata": {},
     "output_type": "execute_result"
    }
   ],
   "source": [
    "\"\"\"\n",
    "YOUR CODE HERE\n",
    "\"\"\""
   ]
  }
 ],
 "metadata": {
  "kernelspec": {
   "display_name": "Python 3",
   "language": "python",
   "name": "python3"
  },
  "language_info": {
   "codemirror_mode": {
    "name": "ipython",
    "version": 3
   },
   "file_extension": ".py",
   "mimetype": "text/x-python",
   "name": "python",
   "nbconvert_exporter": "python",
   "pygments_lexer": "ipython3",
   "version": "3.8.3"
  }
 },
 "nbformat": 4,
 "nbformat_minor": 4
}
